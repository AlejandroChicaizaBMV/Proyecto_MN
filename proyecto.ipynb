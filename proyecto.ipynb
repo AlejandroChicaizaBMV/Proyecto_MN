{
 "cells": [
  {
   "cell_type": "markdown",
   "id": "ac098799",
   "metadata": {},
   "source": [
    "# Proyecto 7\n",
    "\n",
    "Área: Medio Ambiente\n",
    "\n",
    "Descripción: Deberán **modelar** el consumo de agua en una ciudad durante varios meses o años, utilizando diferentes variables. El objetivo es **identificar** patrones de uso, **predecir** la demanda futura y **evaluar** posibles escenarios de escasez mediante **simulaciones**.\n"
   ]
  },
  {
   "cell_type": "markdown",
   "id": "48b3e90e",
   "metadata": {},
   "source": [
    "## Análisis del dataset"
   ]
  },
  {
   "cell_type": "markdown",
   "id": "59232422",
   "metadata": {},
   "source": [
    "Para el desarrollo del proyecto usaremos las siguientes bibliotecas :"
   ]
  },
  {
   "cell_type": "code",
   "execution_count": 2,
   "id": "7e8b2cc2",
   "metadata": {},
   "outputs": [],
   "source": [
    "import numpy as np \n",
    "import pandas as pd \n",
    "from sklearn.impute import SimpleImputer\n",
    "from sklearn.neighbors import NearestNeighbors \n",
    "import matplotlib.pyplot as plt\n",
    "from IPython.display import display\n",
    "import seaborn as sns\n",
    "sns.set_style('whitegrid')"
   ]
  },
  {
   "cell_type": "markdown",
   "id": "83ecd073",
   "metadata": {},
   "source": [
    "Analizamos las columnas del data set, de esto posteriormente nos interezará conocer cuantos valores NaN (Not a Number) tenemos y en que columnas."
   ]
  },
  {
   "cell_type": "code",
   "execution_count": 3,
   "id": "cc6f742c",
   "metadata": {},
   "outputs": [
    {
     "data": {
      "text/html": [
       "<div>\n",
       "<style scoped>\n",
       "    .dataframe tbody tr th:only-of-type {\n",
       "        vertical-align: middle;\n",
       "    }\n",
       "\n",
       "    .dataframe tbody tr th {\n",
       "        vertical-align: top;\n",
       "    }\n",
       "\n",
       "    .dataframe thead th {\n",
       "        text-align: right;\n",
       "    }\n",
       "</style>\n",
       "<table border=\"1\" class=\"dataframe\">\n",
       "  <thead>\n",
       "    <tr style=\"text-align: right;\">\n",
       "      <th></th>\n",
       "      <th>USO2013</th>\n",
       "      <th>TU</th>\n",
       "      <th>DC</th>\n",
       "      <th>M</th>\n",
       "      <th>UL</th>\n",
       "      <th>f.1_ENE_09</th>\n",
       "      <th>f.1_FEB_09</th>\n",
       "      <th>f.1_MAR_09</th>\n",
       "      <th>f.1_ABR_09</th>\n",
       "      <th>f.1_MAY_09</th>\n",
       "      <th>...</th>\n",
       "      <th>f.1_MAR_15</th>\n",
       "      <th>f.1_ABR_15</th>\n",
       "      <th>f.1_MAY_15</th>\n",
       "      <th>f.1_JUN_15</th>\n",
       "      <th>f.1_JUL_15</th>\n",
       "      <th>f.1_AGO_15</th>\n",
       "      <th>f.1_SEP_15</th>\n",
       "      <th>f.1_OCT_15</th>\n",
       "      <th>f.1_NOV_15</th>\n",
       "      <th>f.1_DIC_15</th>\n",
       "    </tr>\n",
       "  </thead>\n",
       "  <tbody>\n",
       "    <tr>\n",
       "      <th>0</th>\n",
       "      <td>H3</td>\n",
       "      <td>DOMESTICO MEDIO</td>\n",
       "      <td>0.5</td>\n",
       "      <td>MSDELAUNET</td>\n",
       "      <td>197.0</td>\n",
       "      <td>20.0</td>\n",
       "      <td>20.0</td>\n",
       "      <td>20.0</td>\n",
       "      <td>20.0</td>\n",
       "      <td>20.0</td>\n",
       "      <td>...</td>\n",
       "      <td>2.0</td>\n",
       "      <td>1.0</td>\n",
       "      <td>2.0</td>\n",
       "      <td>1.0</td>\n",
       "      <td>7.0</td>\n",
       "      <td>7.0</td>\n",
       "      <td>42.0</td>\n",
       "      <td>27.0</td>\n",
       "      <td>22.0</td>\n",
       "      <td>21.0</td>\n",
       "    </tr>\n",
       "    <tr>\n",
       "      <th>1</th>\n",
       "      <td>H3</td>\n",
       "      <td>DOMESTICO MEDIO</td>\n",
       "      <td>0.5</td>\n",
       "      <td>MSDELAUNET</td>\n",
       "      <td>307.0</td>\n",
       "      <td>NaN</td>\n",
       "      <td>30.0</td>\n",
       "      <td>30.0</td>\n",
       "      <td>30.0</td>\n",
       "      <td>30.0</td>\n",
       "      <td>...</td>\n",
       "      <td>11.0</td>\n",
       "      <td>13.0</td>\n",
       "      <td>16.0</td>\n",
       "      <td>14.0</td>\n",
       "      <td>15.0</td>\n",
       "      <td>16.0</td>\n",
       "      <td>13.0</td>\n",
       "      <td>17.0</td>\n",
       "      <td>17.0</td>\n",
       "      <td>11.0</td>\n",
       "    </tr>\n",
       "    <tr>\n",
       "      <th>2</th>\n",
       "      <td>H3</td>\n",
       "      <td>DOMESTICO RESIDENCIAL</td>\n",
       "      <td>0.5</td>\n",
       "      <td>MSDELAUNET</td>\n",
       "      <td>179.0</td>\n",
       "      <td>NaN</td>\n",
       "      <td>NaN</td>\n",
       "      <td>NaN</td>\n",
       "      <td>NaN</td>\n",
       "      <td>NaN</td>\n",
       "      <td>...</td>\n",
       "      <td>6.0</td>\n",
       "      <td>9.0</td>\n",
       "      <td>7.0</td>\n",
       "      <td>8.0</td>\n",
       "      <td>8.0</td>\n",
       "      <td>10.0</td>\n",
       "      <td>12.0</td>\n",
       "      <td>9.0</td>\n",
       "      <td>6.0</td>\n",
       "      <td>3.0</td>\n",
       "    </tr>\n",
       "    <tr>\n",
       "      <th>3</th>\n",
       "      <td>H3</td>\n",
       "      <td>DOMESTICO MEDIO</td>\n",
       "      <td>0.5</td>\n",
       "      <td>CICASA MMD-15 S</td>\n",
       "      <td>852.0</td>\n",
       "      <td>NaN</td>\n",
       "      <td>NaN</td>\n",
       "      <td>NaN</td>\n",
       "      <td>NaN</td>\n",
       "      <td>NaN</td>\n",
       "      <td>...</td>\n",
       "      <td>17.0</td>\n",
       "      <td>20.0</td>\n",
       "      <td>16.0</td>\n",
       "      <td>16.0</td>\n",
       "      <td>18.0</td>\n",
       "      <td>18.0</td>\n",
       "      <td>17.0</td>\n",
       "      <td>17.0</td>\n",
       "      <td>18.0</td>\n",
       "      <td>9.0</td>\n",
       "    </tr>\n",
       "    <tr>\n",
       "      <th>4</th>\n",
       "      <td>H3</td>\n",
       "      <td>DOMESTICO RESIDENCIAL</td>\n",
       "      <td>0.5</td>\n",
       "      <td>NaN</td>\n",
       "      <td>NaN</td>\n",
       "      <td>20.0</td>\n",
       "      <td>20.0</td>\n",
       "      <td>20.0</td>\n",
       "      <td>20.0</td>\n",
       "      <td>20.0</td>\n",
       "      <td>...</td>\n",
       "      <td>27.0</td>\n",
       "      <td>27.0</td>\n",
       "      <td>27.0</td>\n",
       "      <td>28.0</td>\n",
       "      <td>28.0</td>\n",
       "      <td>31.0</td>\n",
       "      <td>27.0</td>\n",
       "      <td>27.0</td>\n",
       "      <td>27.0</td>\n",
       "      <td>24.0</td>\n",
       "    </tr>\n",
       "  </tbody>\n",
       "</table>\n",
       "<p>5 rows × 89 columns</p>\n",
       "</div>"
      ],
      "text/plain": [
       "  USO2013                     TU   DC                M     UL  f.1_ENE_09  \\\n",
       "0      H3        DOMESTICO MEDIO  0.5       MSDELAUNET  197.0        20.0   \n",
       "1      H3        DOMESTICO MEDIO  0.5       MSDELAUNET  307.0         NaN   \n",
       "2      H3  DOMESTICO RESIDENCIAL  0.5       MSDELAUNET  179.0         NaN   \n",
       "3      H3        DOMESTICO MEDIO  0.5  CICASA MMD-15 S  852.0         NaN   \n",
       "4      H3  DOMESTICO RESIDENCIAL  0.5              NaN    NaN        20.0   \n",
       "\n",
       "   f.1_FEB_09  f.1_MAR_09  f.1_ABR_09  f.1_MAY_09  ...  f.1_MAR_15  \\\n",
       "0        20.0        20.0        20.0        20.0  ...         2.0   \n",
       "1        30.0        30.0        30.0        30.0  ...        11.0   \n",
       "2         NaN         NaN         NaN         NaN  ...         6.0   \n",
       "3         NaN         NaN         NaN         NaN  ...        17.0   \n",
       "4        20.0        20.0        20.0        20.0  ...        27.0   \n",
       "\n",
       "   f.1_ABR_15  f.1_MAY_15  f.1_JUN_15  f.1_JUL_15  f.1_AGO_15  f.1_SEP_15  \\\n",
       "0         1.0         2.0         1.0         7.0         7.0        42.0   \n",
       "1        13.0        16.0        14.0        15.0        16.0        13.0   \n",
       "2         9.0         7.0         8.0         8.0        10.0        12.0   \n",
       "3        20.0        16.0        16.0        18.0        18.0        17.0   \n",
       "4        27.0        27.0        28.0        28.0        31.0        27.0   \n",
       "\n",
       "   f.1_OCT_15  f.1_NOV_15  f.1_DIC_15  \n",
       "0        27.0        22.0        21.0  \n",
       "1        17.0        17.0        11.0  \n",
       "2         9.0         6.0         3.0  \n",
       "3        17.0        18.0         9.0  \n",
       "4        27.0        27.0        24.0  \n",
       "\n",
       "[5 rows x 89 columns]"
      ]
     },
     "execution_count": 3,
     "metadata": {},
     "output_type": "execute_result"
    }
   ],
   "source": [
    "aguah = pd.read_csv(\"./AguaH.csv\")\n",
    "aguah.head()"
   ]
  },
  {
   "cell_type": "code",
   "execution_count": 4,
   "id": "bbba4d6d",
   "metadata": {},
   "outputs": [
    {
     "data": {
      "text/html": [
       "<div>\n",
       "<style scoped>\n",
       "    .dataframe tbody tr th:only-of-type {\n",
       "        vertical-align: middle;\n",
       "    }\n",
       "\n",
       "    .dataframe tbody tr th {\n",
       "        vertical-align: top;\n",
       "    }\n",
       "\n",
       "    .dataframe thead th {\n",
       "        text-align: right;\n",
       "    }\n",
       "</style>\n",
       "<table border=\"1\" class=\"dataframe\">\n",
       "  <thead>\n",
       "    <tr style=\"text-align: right;\">\n",
       "      <th></th>\n",
       "      <th>TIPO USO</th>\n",
       "      <th>TIPO USUARIO</th>\n",
       "      <th>DIAMETRO_TUBERIA</th>\n",
       "      <th>PROVEEDOR</th>\n",
       "      <th>ENE16</th>\n",
       "      <th>2009-01</th>\n",
       "      <th>2009-02</th>\n",
       "      <th>2009-03</th>\n",
       "      <th>2009-04</th>\n",
       "      <th>2009-05</th>\n",
       "      <th>...</th>\n",
       "      <th>2015-03</th>\n",
       "      <th>2015-04</th>\n",
       "      <th>2015-05</th>\n",
       "      <th>2015-06</th>\n",
       "      <th>2015-07</th>\n",
       "      <th>2015-08</th>\n",
       "      <th>2015-09</th>\n",
       "      <th>2015-10</th>\n",
       "      <th>2015-11</th>\n",
       "      <th>2015-12</th>\n",
       "    </tr>\n",
       "  </thead>\n",
       "  <tbody>\n",
       "    <tr>\n",
       "      <th>0</th>\n",
       "      <td>H3</td>\n",
       "      <td>DOMESTICO MEDIO</td>\n",
       "      <td>0.5</td>\n",
       "      <td>MSDELAUNET</td>\n",
       "      <td>197.0</td>\n",
       "      <td>20.0</td>\n",
       "      <td>20.0</td>\n",
       "      <td>20.0</td>\n",
       "      <td>20.0</td>\n",
       "      <td>20.0</td>\n",
       "      <td>...</td>\n",
       "      <td>2.0</td>\n",
       "      <td>1.0</td>\n",
       "      <td>2.0</td>\n",
       "      <td>1.0</td>\n",
       "      <td>7.0</td>\n",
       "      <td>7.0</td>\n",
       "      <td>42.0</td>\n",
       "      <td>27.0</td>\n",
       "      <td>22.0</td>\n",
       "      <td>21.0</td>\n",
       "    </tr>\n",
       "    <tr>\n",
       "      <th>1</th>\n",
       "      <td>H3</td>\n",
       "      <td>DOMESTICO MEDIO</td>\n",
       "      <td>0.5</td>\n",
       "      <td>MSDELAUNET</td>\n",
       "      <td>307.0</td>\n",
       "      <td>NaN</td>\n",
       "      <td>30.0</td>\n",
       "      <td>30.0</td>\n",
       "      <td>30.0</td>\n",
       "      <td>30.0</td>\n",
       "      <td>...</td>\n",
       "      <td>11.0</td>\n",
       "      <td>13.0</td>\n",
       "      <td>16.0</td>\n",
       "      <td>14.0</td>\n",
       "      <td>15.0</td>\n",
       "      <td>16.0</td>\n",
       "      <td>13.0</td>\n",
       "      <td>17.0</td>\n",
       "      <td>17.0</td>\n",
       "      <td>11.0</td>\n",
       "    </tr>\n",
       "    <tr>\n",
       "      <th>2</th>\n",
       "      <td>H3</td>\n",
       "      <td>DOMESTICO RESIDENCIAL</td>\n",
       "      <td>0.5</td>\n",
       "      <td>MSDELAUNET</td>\n",
       "      <td>179.0</td>\n",
       "      <td>NaN</td>\n",
       "      <td>NaN</td>\n",
       "      <td>NaN</td>\n",
       "      <td>NaN</td>\n",
       "      <td>NaN</td>\n",
       "      <td>...</td>\n",
       "      <td>6.0</td>\n",
       "      <td>9.0</td>\n",
       "      <td>7.0</td>\n",
       "      <td>8.0</td>\n",
       "      <td>8.0</td>\n",
       "      <td>10.0</td>\n",
       "      <td>12.0</td>\n",
       "      <td>9.0</td>\n",
       "      <td>6.0</td>\n",
       "      <td>3.0</td>\n",
       "    </tr>\n",
       "    <tr>\n",
       "      <th>3</th>\n",
       "      <td>H3</td>\n",
       "      <td>DOMESTICO MEDIO</td>\n",
       "      <td>0.5</td>\n",
       "      <td>CICASA MMD-15 S</td>\n",
       "      <td>852.0</td>\n",
       "      <td>NaN</td>\n",
       "      <td>NaN</td>\n",
       "      <td>NaN</td>\n",
       "      <td>NaN</td>\n",
       "      <td>NaN</td>\n",
       "      <td>...</td>\n",
       "      <td>17.0</td>\n",
       "      <td>20.0</td>\n",
       "      <td>16.0</td>\n",
       "      <td>16.0</td>\n",
       "      <td>18.0</td>\n",
       "      <td>18.0</td>\n",
       "      <td>17.0</td>\n",
       "      <td>17.0</td>\n",
       "      <td>18.0</td>\n",
       "      <td>9.0</td>\n",
       "    </tr>\n",
       "    <tr>\n",
       "      <th>4</th>\n",
       "      <td>H3</td>\n",
       "      <td>DOMESTICO RESIDENCIAL</td>\n",
       "      <td>0.5</td>\n",
       "      <td>NaN</td>\n",
       "      <td>NaN</td>\n",
       "      <td>20.0</td>\n",
       "      <td>20.0</td>\n",
       "      <td>20.0</td>\n",
       "      <td>20.0</td>\n",
       "      <td>20.0</td>\n",
       "      <td>...</td>\n",
       "      <td>27.0</td>\n",
       "      <td>27.0</td>\n",
       "      <td>27.0</td>\n",
       "      <td>28.0</td>\n",
       "      <td>28.0</td>\n",
       "      <td>31.0</td>\n",
       "      <td>27.0</td>\n",
       "      <td>27.0</td>\n",
       "      <td>27.0</td>\n",
       "      <td>24.0</td>\n",
       "    </tr>\n",
       "  </tbody>\n",
       "</table>\n",
       "<p>5 rows × 89 columns</p>\n",
       "</div>"
      ],
      "text/plain": [
       "  TIPO USO           TIPO USUARIO  DIAMETRO_TUBERIA        PROVEEDOR  ENE16  \\\n",
       "0       H3        DOMESTICO MEDIO               0.5       MSDELAUNET  197.0   \n",
       "1       H3        DOMESTICO MEDIO               0.5       MSDELAUNET  307.0   \n",
       "2       H3  DOMESTICO RESIDENCIAL               0.5       MSDELAUNET  179.0   \n",
       "3       H3        DOMESTICO MEDIO               0.5  CICASA MMD-15 S  852.0   \n",
       "4       H3  DOMESTICO RESIDENCIAL               0.5              NaN    NaN   \n",
       "\n",
       "   2009-01  2009-02  2009-03  2009-04  2009-05  ...  2015-03  2015-04  \\\n",
       "0     20.0     20.0     20.0     20.0     20.0  ...      2.0      1.0   \n",
       "1      NaN     30.0     30.0     30.0     30.0  ...     11.0     13.0   \n",
       "2      NaN      NaN      NaN      NaN      NaN  ...      6.0      9.0   \n",
       "3      NaN      NaN      NaN      NaN      NaN  ...     17.0     20.0   \n",
       "4     20.0     20.0     20.0     20.0     20.0  ...     27.0     27.0   \n",
       "\n",
       "   2015-05  2015-06  2015-07  2015-08  2015-09  2015-10  2015-11  2015-12  \n",
       "0      2.0      1.0      7.0      7.0     42.0     27.0     22.0     21.0  \n",
       "1     16.0     14.0     15.0     16.0     13.0     17.0     17.0     11.0  \n",
       "2      7.0      8.0      8.0     10.0     12.0      9.0      6.0      3.0  \n",
       "3     16.0     16.0     18.0     18.0     17.0     17.0     18.0      9.0  \n",
       "4     27.0     28.0     28.0     31.0     27.0     27.0     27.0     24.0  \n",
       "\n",
       "[5 rows x 89 columns]"
      ]
     },
     "execution_count": 4,
     "metadata": {},
     "output_type": "execute_result"
    }
   ],
   "source": [
    "lookup = {'ENE':'01',\n",
    "          'FEB':'02',\n",
    "          'MAR':'03',\n",
    "          'ABR':'04',\n",
    "          'MAY':'05',\n",
    "          'JUN':'06',\n",
    "          'JUL':'07',\n",
    "          'AGO':'08',\n",
    "          'SEP':'09',\n",
    "          'OCT':'10',\n",
    "          'NOV':'11',\n",
    "          'DIC':'12'\n",
    "          }\n",
    "clist=[]\n",
    "for col in aguah.columns[5:]:\n",
    "    col = col[4:].split('_')\n",
    "    clist.append('20'+col[1]+'-'+lookup[col[0]])\n",
    "\n",
    "columns = ['TIPO USO','TIPO USUARIO','DIAMETRO_TUBERIA','PROVEEDOR','ENE16']+clist\n",
    "aguah.columns=columns\n",
    "aguah.head()"
   ]
  },
  {
   "cell_type": "markdown",
   "id": "761fb40d",
   "metadata": {},
   "source": [
    "### Datos nulos (NaN)"
   ]
  },
  {
   "cell_type": "markdown",
   "id": "1958ddaa",
   "metadata": {},
   "source": [
    "Identificamos los valores diferentes de NaN, mismos que nos serviran para imputar los datos NaN posteriormente:"
   ]
  },
  {
   "cell_type": "code",
   "execution_count": 5,
   "id": "5b0625af",
   "metadata": {},
   "outputs": [
    {
     "name": "stdout",
     "output_type": "stream",
     "text": [
      "Proporción de valores distintos de NaN : 79.06%\n"
     ]
    },
    {
     "data": {
      "image/png": "[encoded data removed]",
      "text/plain": [
       "<Figure size 800x400 with 1 Axes>"
      ]
     },
     "metadata": {},
     "output_type": "display_data"
    }
   ],
   "source": [
    "cons = aguah.iloc[0:, 5:]\n",
    "cons['NumNull'] = cons.isnull().sum(axis=1)\n",
    "print('Proporción de valores distintos de NaN : {:.2f}%'.format(len(cons[cons.NumNull==0])/len(cons)*100))\n",
    "bins = [0,1,10,20,30,40,50,60,70,80,90]\n",
    "cut = pd.cut(cons.NumNull, bins=bins, include_lowest=True, right=False)\n",
    "fig, axis1 = plt.subplots(1,figsize=(8,4))\n",
    "sns.countplot(x=cut, data=cut.to_frame(), ax=axis1)\n",
    "plt.show()"
   ]
  },
  {
   "cell_type": "code",
   "execution_count": 6,
   "id": "888d1041",
   "metadata": {},
   "outputs": [
    {
     "data": {
      "image/png": "[encoded data removed]",
      "text/plain": [
       "<Figure size 1000x400 with 1 Axes>"
      ]
     },
     "metadata": {},
     "output_type": "display_data"
    }
   ],
   "source": [
    "NumNullwithTime = cons.drop('NumNull', axis=1).isnull().sum()\n",
    "\n",
    "sns.set_style(\"darkgrid\")\n",
    "plt.figure(figsize=(10,4))\n",
    "pbar = NumNullwithTime.plot.bar()\n",
    "plt.xticks(list(range(0,len(NumNullwithTime.index),6)), list(NumNullwithTime.index[0::6]), rotation=45, ha='right')\n",
    "plt.show()"
   ]
  },
  {
   "cell_type": "markdown",
   "id": "3ee1d625",
   "metadata": {},
   "source": [
    "### Imputación de datos faltantes\n"
   ]
  },
  {
   "cell_type": "markdown",
   "id": "509e8679",
   "metadata": {},
   "source": [
    "* **Intento con SimpleImputer**"
   ]
  },
  {
   "cell_type": "code",
   "execution_count": 7,
   "id": "cffda4c5",
   "metadata": {},
   "outputs": [],
   "source": [
    "from sklearn.impute import SimpleImputer"
   ]
  },
  {
   "cell_type": "code",
   "execution_count": 8,
   "id": "1f6fcb7b",
   "metadata": {},
   "outputs": [
    {
     "name": "stdout",
     "output_type": "stream",
     "text": [
      "Proceso de Imputación terminado\n"
     ]
    }
   ],
   "source": [
    "\n",
    "data = aguah.iloc[0:, 5:]\n",
    "\n",
    "imputer = SimpleImputer(strategy='mean')\n",
    "\n",
    "imputed_array = imputer.fit_transform(data)\n",
    "\n",
    "\n",
    "df_imputed = pd.DataFrame(imputed_array, columns=data.columns)\n",
    "\n",
    "\n",
    "df_imputed.to_csv('datos_imputados.csv', index=False)\n",
    "print('Proceso de Imputación terminado')"
   ]
  },
  {
   "cell_type": "markdown",
   "id": "30c17301",
   "metadata": {},
   "source": [
    "* **Inteno con KNN**"
   ]
  },
  {
   "cell_type": "code",
   "execution_count": 42,
   "id": "43fadbb0",
   "metadata": {},
   "outputs": [],
   "source": [
    "from sklearn.impute import KNNImputer\n",
    "from sklearn.preprocessing import StandardScaler"
   ]
  },
  {
   "cell_type": "code",
   "execution_count": 43,
   "id": "ce37d318",
   "metadata": {},
   "outputs": [
    {
     "name": "stdout",
     "output_type": "stream",
     "text": [
      "        2009-01  2009-02  2009-03  2009-04  2009-05  2009-06  2009-07  \\\n",
      "0          20.0     20.0     20.0     20.0     20.0     20.0     20.0   \n",
      "1           NaN     30.0     30.0     30.0     30.0     30.0     30.0   \n",
      "2           NaN      NaN      NaN      NaN      NaN      NaN      NaN   \n",
      "3           NaN      NaN      NaN      NaN      NaN      NaN      NaN   \n",
      "4          20.0     20.0     20.0     20.0     20.0     20.0     20.0   \n",
      "...         ...      ...      ...      ...      ...      ...      ...   \n",
      "178592   2574.0   1685.0   1141.0   1316.0   1521.0   2388.0   2620.0   \n",
      "178593   2574.0   1685.0   1141.0   1316.0   1521.0   2388.0   2620.0   \n",
      "178594   2574.0   1685.0   1141.0   1316.0   1521.0   2388.0   2620.0   \n",
      "178595   2574.0   1685.0   1141.0   1316.0   1521.0   2388.0   2620.0   \n",
      "178596   2574.0   1685.0   1141.0   1316.0   1521.0   2388.0   2620.0   \n",
      "\n",
      "        2009-08  2009-09  2009-10  ...  2015-03  2015-04  2015-05  2015-06  \\\n",
      "0          20.0     20.0     20.0  ...      2.0      1.0      2.0      1.0   \n",
      "1          30.0     30.0     30.0  ...     11.0     13.0     16.0     14.0   \n",
      "2           NaN      NaN      NaN  ...      6.0      9.0      7.0      8.0   \n",
      "3           NaN      NaN      NaN  ...     17.0     20.0     16.0     16.0   \n",
      "4          20.0     20.0     20.0  ...     27.0     27.0     27.0     28.0   \n",
      "...         ...      ...      ...  ...      ...      ...      ...      ...   \n",
      "178592   3403.0   3785.0   4551.0  ...   4924.0   4346.0   5118.0   4755.0   \n",
      "178593   3403.0   3785.0   4551.0  ...   4924.0   4346.0   5118.0   4755.0   \n",
      "178594   3403.0   3785.0   4551.0  ...   4924.0   4346.0   5118.0   4755.0   \n",
      "178595   3403.0   3785.0   4551.0  ...   4924.0   4346.0   5118.0   4755.0   \n",
      "178596   3403.0   3785.0   4551.0  ...   4924.0   4346.0   5118.0   4755.0   \n",
      "\n",
      "        2015-07  2015-08  2015-09  2015-10  2015-11  2015-12  \n",
      "0           7.0      7.0     42.0     27.0     22.0     21.0  \n",
      "1          15.0     16.0     13.0     17.0     17.0     11.0  \n",
      "2           8.0     10.0     12.0      9.0      6.0      3.0  \n",
      "3          18.0     18.0     17.0     17.0     18.0      9.0  \n",
      "4          28.0     31.0     27.0     27.0     27.0     24.0  \n",
      "...         ...      ...      ...      ...      ...      ...  \n",
      "178592   6444.0   5783.0   6476.0   3123.0   4756.0   4435.0  \n",
      "178593   6444.0   5783.0   6476.0   3123.0   4756.0   4435.0  \n",
      "178594   6444.0   5783.0   6476.0   3123.0   4756.0   4435.0  \n",
      "178595   6444.0   5783.0   6476.0   3123.0   4756.0   4435.0  \n",
      "178596   6444.0   5783.0   6476.0   3123.0   4756.0   4435.0  \n",
      "\n",
      "[178597 rows x 84 columns]\n"
     ]
    }
   ],
   "source": [
    "data = aguah.iloc[0:, 5:]\n",
    "print(data)"
   ]
  },
  {
   "cell_type": "code",
   "execution_count": 44,
   "id": "67d2eef3",
   "metadata": {},
   "outputs": [
    {
     "name": "stdout",
     "output_type": "stream",
     "text": [
      "        2009-01  2009-02  2009-03  2009-04  2009-05  2009-06  2009-07  \\\n",
      "0          20.0     20.0     20.0     20.0     20.0     20.0     20.0   \n",
      "4          20.0     20.0     20.0     20.0     20.0     20.0     20.0   \n",
      "5          20.0     20.0     20.0     20.0     20.0     20.0     20.0   \n",
      "6          20.0     20.0     20.0     20.0     20.0     20.0     20.0   \n",
      "7          30.0     10.0     30.0     20.0     30.0     30.0     30.0   \n",
      "...         ...      ...      ...      ...      ...      ...      ...   \n",
      "178592   2574.0   1685.0   1141.0   1316.0   1521.0   2388.0   2620.0   \n",
      "178593   2574.0   1685.0   1141.0   1316.0   1521.0   2388.0   2620.0   \n",
      "178594   2574.0   1685.0   1141.0   1316.0   1521.0   2388.0   2620.0   \n",
      "178595   2574.0   1685.0   1141.0   1316.0   1521.0   2388.0   2620.0   \n",
      "178596   2574.0   1685.0   1141.0   1316.0   1521.0   2388.0   2620.0   \n",
      "\n",
      "        2009-08  2009-09  2009-10  ...  2015-03  2015-04  2015-05  2015-06  \\\n",
      "0          20.0     20.0     20.0  ...      2.0      1.0      2.0      1.0   \n",
      "4          20.0     20.0     20.0  ...     27.0     27.0     27.0     28.0   \n",
      "5          17.0     14.0     10.0  ...     19.0     19.0     18.0     18.0   \n",
      "6          20.0     20.0     20.0  ...     17.0     17.0     17.0     17.0   \n",
      "7          30.0     30.0     30.0  ...     14.0     15.0     26.0     27.0   \n",
      "...         ...      ...      ...  ...      ...      ...      ...      ...   \n",
      "178592   3403.0   3785.0   4551.0  ...   4924.0   4346.0   5118.0   4755.0   \n",
      "178593   3403.0   3785.0   4551.0  ...   4924.0   4346.0   5118.0   4755.0   \n",
      "178594   3403.0   3785.0   4551.0  ...   4924.0   4346.0   5118.0   4755.0   \n",
      "178595   3403.0   3785.0   4551.0  ...   4924.0   4346.0   5118.0   4755.0   \n",
      "178596   3403.0   3785.0   4551.0  ...   4924.0   4346.0   5118.0   4755.0   \n",
      "\n",
      "        2015-07  2015-08  2015-09  2015-10  2015-11  2015-12  \n",
      "0           7.0      7.0     42.0     27.0     22.0     21.0  \n",
      "4          28.0     31.0     27.0     27.0     27.0     24.0  \n",
      "5          19.0     19.0     19.0     18.0     18.0     24.0  \n",
      "6          17.0     17.0     17.0     17.0     17.0     24.0  \n",
      "7          29.0     22.0     27.0     26.0     33.0     32.0  \n",
      "...         ...      ...      ...      ...      ...      ...  \n",
      "178592   6444.0   5783.0   6476.0   3123.0   4756.0   4435.0  \n",
      "178593   6444.0   5783.0   6476.0   3123.0   4756.0   4435.0  \n",
      "178594   6444.0   5783.0   6476.0   3123.0   4756.0   4435.0  \n",
      "178595   6444.0   5783.0   6476.0   3123.0   4756.0   4435.0  \n",
      "178596   6444.0   5783.0   6476.0   3123.0   4756.0   4435.0  \n",
      "\n",
      "[141205 rows x 84 columns]\n",
      "        2009-01  2009-02  2009-03  2009-04  2009-05  2009-06  2009-07  \\\n",
      "1           NaN     30.0     30.0     30.0     30.0     30.0     30.0   \n",
      "2           NaN      NaN      NaN      NaN      NaN      NaN      NaN   \n",
      "3           NaN      NaN      NaN      NaN      NaN      NaN      NaN   \n",
      "10          NaN      NaN      NaN      NaN      NaN      NaN      NaN   \n",
      "11          NaN      NaN      NaN      NaN      NaN      NaN      NaN   \n",
      "...         ...      ...      ...      ...      ...      ...      ...   \n",
      "178579      NaN      NaN      NaN      NaN      NaN      NaN      NaN   \n",
      "178580      NaN      NaN      NaN      NaN      NaN      NaN      NaN   \n",
      "178581      NaN      NaN      NaN      NaN      NaN      NaN      NaN   \n",
      "178582      NaN      NaN      NaN      NaN      NaN      NaN      NaN   \n",
      "178583      NaN      NaN      NaN      NaN      NaN      NaN      NaN   \n",
      "\n",
      "        2009-08  2009-09  2009-10  ...  2015-03  2015-04  2015-05  2015-06  \\\n",
      "1          30.0     30.0     30.0  ...     11.0     13.0     16.0     14.0   \n",
      "2           NaN      NaN      NaN  ...      6.0      9.0      7.0      8.0   \n",
      "3           NaN      NaN      NaN  ...     17.0     20.0     16.0     16.0   \n",
      "10          NaN      NaN      NaN  ...      NaN      NaN     15.0     15.0   \n",
      "11          NaN      NaN      NaN  ...      NaN      NaN     15.0     15.0   \n",
      "...         ...      ...      ...  ...      ...      ...      ...      ...   \n",
      "178579      NaN      NaN      NaN  ...      0.0      0.0      0.0      1.0   \n",
      "178580      NaN      NaN      NaN  ...      9.0      9.0      9.0      9.0   \n",
      "178581      NaN      NaN      NaN  ...     15.0     22.0     19.0     17.0   \n",
      "178582      NaN      NaN      NaN  ...     13.0     16.0     14.0     16.0   \n",
      "178583      NaN      NaN      NaN  ...      NaN      NaN      NaN      NaN   \n",
      "\n",
      "        2015-07  2015-08  2015-09  2015-10  2015-11  2015-12  \n",
      "1          15.0     16.0     13.0     17.0     17.0     11.0  \n",
      "2           8.0     10.0     12.0      9.0      6.0      3.0  \n",
      "3          18.0     18.0     17.0     17.0     18.0      9.0  \n",
      "10         15.0     15.0     15.0     15.0     15.0     15.0  \n",
      "11         15.0     15.0     15.0     15.0     15.0     15.0  \n",
      "...         ...      ...      ...      ...      ...      ...  \n",
      "178579      2.0      2.0     13.0     14.0     15.0     11.0  \n",
      "178580     10.0      8.0     11.0      9.0     17.0      6.0  \n",
      "178581     21.0     17.0     22.0     23.0     33.0     20.0  \n",
      "178582     18.0     16.0     15.0     14.0     14.0     10.0  \n",
      "178583      NaN      NaN      NaN     18.0     18.0     18.0  \n",
      "\n",
      "[37392 rows x 84 columns]\n"
     ]
    }
   ],
   "source": [
    "#Filatrar filas incompletas\n",
    "complete_rows = data.dropna()\n",
    "incomplete_rows = data[data.isnull().any(axis=1)]\n",
    "print(complete_rows)\n",
    "print(incomplete_rows)"
   ]
  },
  {
   "cell_type": "code",
   "execution_count": 45,
   "id": "36db651d",
   "metadata": {},
   "outputs": [],
   "source": [
    "scaler = StandardScaler()\n",
    "complete_scaled = scaler.fit_transform(complete_rows)\n",
    "incomplete_scaled = scaler.transform(incomplete_rows)"
   ]
  },
  {
   "cell_type": "code",
   "execution_count": 46,
   "id": "75c4535d",
   "metadata": {},
   "outputs": [],
   "source": [
    "# configurar el imputador\n",
    "imputer = KNNImputer(n_neighbors=5)"
   ]
  },
  {
   "cell_type": "code",
   "execution_count": null,
   "id": "0639ac60",
   "metadata": {},
   "outputs": [],
   "source": [
    "# Procesar por Chunks\n",
    "chunk_size = 10000\n",
    "num_incomplete = len(incomplete_rows)\n",
    "imputed_blocks = []\n",
    "\n",
    "for start in range(0, num_incomplete, chunk_size):\n",
    "    end = min(start + chunk_size, num_incomplete)\n",
    "    print(f'\\n filas en proceso: {start} a {end - 1}...')\n",
    "\n",
    "    # Extraer bloque\n",
    "    incomplete_chunk = incomplete_scaled[start:end]\n",
    "\n",
    "    # Combinar con datos completos (vecinos)\n",
    "    combined_chunk = np.vstack([complete_scaled, incomplete_chunk])\n",
    "\n",
    "    # Imputar\n",
    "    imputed_combined = imputer.fit_transform(combined_chunk)\n",
    "\n",
    "    # Extraer solo la parte imputada\n",
    "    imputed_chunk_scaled = imputed_combined[-(end - start):]\n",
    "\n",
    "    # Desnormalizar\n",
    "    imputed_chunk_original = scaler.inverse_transform(imputed_chunk_scaled)\n",
    "\n",
    "    # Convertir a DataFrame\n",
    "    imputed_chunk_df = pd.DataFrame(imputed_chunk_original, columns=data.columns)\n",
    "    imputed_blocks.append(imputed_chunk_df)\n",
    "\n",
    "    print(f'Bloque {start} - {end - 1} imputado.')"
   ]
  },
  {
   "cell_type": "code",
   "execution_count": null,
   "id": "77ea1ac9",
   "metadata": {},
   "outputs": [],
   "source": [
    "imputed_incomplete_df = pd.concat(imputed_blocks, ignore_index=True)"
   ]
  },
  {
   "cell_type": "code",
   "execution_count": null,
   "id": "08811618",
   "metadata": {},
   "outputs": [],
   "source": [
    "final_df = pd.concat([complete_rows, imputed_incomplete_df], ignore_index=True)\n",
    "\n",
    "print('\\n Imputación terminada:')\n",
    "print(final_df.info())"
   ]
  },
  {
   "cell_type": "code",
   "execution_count": null,
   "id": "9e0886af",
   "metadata": {},
   "outputs": [],
   "source": [
    "final_df.to_csv('datos_imputados_por_bloques.csv', index=False)\n",
    "print(\"\\n Archivo 'datos_imputados_por_bloques.csv' guardado correctamente.\")\n"
   ]
  },
  {
   "cell_type": "code",
   "execution_count": 38,
   "id": "4100a9db",
   "metadata": {},
   "outputs": [],
   "source": [
    "# Normalizar\n",
    "scaler = StandardScaler()\n",
    "complete_scaled = scaler.fit_transform(complete_rows)\n",
    "incomplete_scaled = scaler.fit_transform(incomplete_rows)\n",
    "\n",
    "#Concatenar\n",
    "combined_scaled = np.vstack([complete_scaled, incomplete_scaled])\n"
   ]
  },
  {
   "cell_type": "code",
   "execution_count": null,
   "id": "59c74867",
   "metadata": {},
   "outputs": [],
   "source": [
    "#Imputar\n",
    "imputer = KNNImputer(n_neighbors=5)\n",
    "data_imputed = imputer.fit_transform(combined_scaled)"
   ]
  },
  {
   "cell_type": "code",
   "execution_count": null,
   "id": "da90ece7",
   "metadata": {},
   "outputs": [],
   "source": [
    "#Separar los resultados imputados\n",
    "imputed_incomplete_scaled = imputed_scaled[-len(incomplete_rows):]"
   ]
  },
  {
   "cell_type": "code",
   "execution_count": null,
   "id": "4f486295",
   "metadata": {},
   "outputs": [],
   "source": [
    "\n",
    "data_imputed = pd.DataFrame(data_imputed, columns = data.columns)\n",
    "print(data_imputed)"
   ]
  },
  {
   "cell_type": "markdown",
   "id": "1d675950",
   "metadata": {},
   "source": [
    "## Análisis de los datos Imputados"
   ]
  },
  {
   "cell_type": "markdown",
   "id": "7f3ecf43",
   "metadata": {},
   "source": [
    "Con los datos imputados, graficamos el consumo con respecto al tiempo."
   ]
  },
  {
   "cell_type": "markdown",
   "id": "e59b829e",
   "metadata": {},
   "source": [
    "* **Serie de tiempo**"
   ]
  },
  {
   "cell_type": "code",
   "execution_count": 9,
   "id": "4f8b96b5",
   "metadata": {},
   "outputs": [],
   "source": [
    "df_datos_imputados = pd.read_csv('./datos_imputados.csv')"
   ]
  },
  {
   "cell_type": "code",
   "execution_count": 10,
   "id": "355dd3b4",
   "metadata": {},
   "outputs": [],
   "source": [
    "df_long = df_datos_imputados.melt(var_name='Fecha', value_name='Consumo')\n"
   ]
  },
  {
   "cell_type": "code",
   "execution_count": 11,
   "id": "c14ce039",
   "metadata": {},
   "outputs": [
    {
     "data": {
      "text/plain": [
       "<Axes: xlabel='Fecha'>"
      ]
     },
     "execution_count": 11,
     "metadata": {},
     "output_type": "execute_result"
    },
    {
     "data": {
      "image/png": "[encoded data removed]",
      "text/plain": [
       "<Figure size 640x480 with 1 Axes>"
      ]
     },
     "metadata": {},
     "output_type": "display_data"
    }
   ],
   "source": [
    "df_long.groupby('Fecha')['Consumo'].sum().plot()\n"
   ]
  },
  {
   "cell_type": "markdown",
   "id": "be1d5ff4",
   "metadata": {},
   "source": [
    "El consumo de agua aumenta con el paso del tiempo del 2009 al 2015 el consumo muestra una tendencia ascendente, aunque también se presentan caidas en periodos intermedios.\n",
    "Un aspecto importante a considerar es la variabilidad, algunos periodos muestra caídas muy bruscas y repidaente se recuperan, siendo una muy clara muestra que el consumo no es constante si no que fluctua\n"
   ]
  },
  {
   "cell_type": "code",
   "execution_count": 13,
   "id": "018732dd",
   "metadata": {},
   "outputs": [
    {
     "data": {
      "image/png": "[encoded data removed]",
      "text/plain": [
       "<Figure size 1000x600 with 1 Axes>"
      ]
     },
     "metadata": {},
     "output_type": "display_data"
    }
   ],
   "source": [
    "df_long['Fecha'] = pd.to_datetime(df_long['Fecha'])\n",
    "\n",
    "\n",
    "df_long['Mes'] = df_long['Fecha'].dt.month\n",
    "\n",
    "plt.figure(figsize=(10,6))\n",
    "sns.boxplot(x='Mes', y='Consumo', data=df_long)\n",
    "plt.title('Distribución de Consumo por Mes')\n",
    "plt.xlabel('Mes')\n",
    "plt.ylabel('Consumo')\n",
    "plt.show()"
   ]
  },
  {
   "cell_type": "code",
   "execution_count": null,
   "id": "d721536d",
   "metadata": {},
   "outputs": [],
   "source": []
  }
 ],
 "metadata": {
  "kernelspec": {
   "display_name": "env",
   "language": "python",
   "name": "python3"
  },
  "language_info": {
   "codemirror_mode": {
    "name": "ipython",
    "version": 3
   },
   "file_extension": ".py",
   "mimetype": "text/x-python",
   "name": "python",
   "nbconvert_exporter": "python",
   "pygments_lexer": "ipython3",
   "version": "3.13.3"
  }
 },
 "nbformat": 4,
 "nbformat_minor": 5
}
